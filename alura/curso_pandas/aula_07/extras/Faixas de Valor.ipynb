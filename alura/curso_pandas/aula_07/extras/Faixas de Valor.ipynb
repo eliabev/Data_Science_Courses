{
 "cells": [
  {
   "cell_type": "code",
   "execution_count": 1,
   "metadata": {},
   "outputs": [],
   "source": [
    "import pandas as pd\n",
    "dados = pd.read_csv('../../dados/aluguel.csv', sep=';')"
   ]
  },
  {
   "cell_type": "code",
   "execution_count": 6,
   "metadata": {},
   "outputs": [
    {
     "data": {
      "text/plain": [
       "0        (0.0, 2.0]\n",
       "1        (0.0, 2.0]\n",
       "2               NaN\n",
       "3        (0.0, 2.0]\n",
       "4        (0.0, 2.0]\n",
       "            ...    \n",
       "32955           NaN\n",
       "32956    (2.0, 4.0]\n",
       "32957    (0.0, 2.0]\n",
       "32958    (0.0, 2.0]\n",
       "32959           NaN\n",
       "Name: Quartos, Length: 32960, dtype: category\n",
       "Categories (4, interval[int64, right]): [(0, 2] < (2, 4] < (4, 6] < (6, 150]]"
      ]
     },
     "execution_count": 6,
     "metadata": {},
     "output_type": "execute_result"
    }
   ],
   "source": [
    "classes = [0, 2, 4, 6, 150]\n",
    "quartos = pd.cut(dados.Quartos, classes)\n",
    "quartos"
   ]
  },
  {
   "cell_type": "code",
   "execution_count": 7,
   "metadata": {},
   "outputs": [
    {
     "data": {
      "text/plain": [
       "count    32960.000000\n",
       "mean         1.771390\n",
       "std          1.717869\n",
       "min          0.000000\n",
       "25%          0.000000\n",
       "50%          2.000000\n",
       "75%          3.000000\n",
       "max        100.000000\n",
       "Name: Quartos, dtype: float64"
      ]
     },
     "execution_count": 7,
     "metadata": {},
     "output_type": "execute_result"
    }
   ],
   "source": [
    "dados.Quartos.describe()"
   ]
  },
  {
   "cell_type": "code",
   "execution_count": 8,
   "metadata": {},
   "outputs": [
    {
     "name": "stderr",
     "output_type": "stream",
     "text": [
      "/tmp/ipykernel_103595/2908359106.py:1: FutureWarning: pandas.value_counts is deprecated and will be removed in a future version. Use pd.Series(obj).value_counts() instead.\n",
      "  pd.value_counts(quartos)\n"
     ]
    },
    {
     "data": {
      "text/plain": [
       "Quartos\n",
       "(0, 2]      12419\n",
       "(2, 4]       9894\n",
       "(4, 6]        709\n",
       "(6, 150]       87\n",
       "Name: count, dtype: int64"
      ]
     },
     "execution_count": 8,
     "metadata": {},
     "output_type": "execute_result"
    }
   ],
   "source": [
    "pd.value_counts(quartos)"
   ]
  },
  {
   "cell_type": "code",
   "execution_count": 13,
   "metadata": {},
   "outputs": [
    {
     "data": {
      "text/plain": [
       "0        1 e 2 quartos\n",
       "1        1 e 2 quartos\n",
       "2                  NaN\n",
       "3        1 e 2 quartos\n",
       "4        1 e 2 quartos\n",
       "             ...      \n",
       "32955              NaN\n",
       "32956    3 e 4 quartos\n",
       "32957    1 e 2 quartos\n",
       "32958    1 e 2 quartos\n",
       "32959              NaN\n",
       "Name: Quartos, Length: 32960, dtype: category\n",
       "Categories (4, object): ['1 e 2 quartos' < '3 e 4 quartos' < '5 e 6 quartos' < '7 ou mais quartos']"
      ]
     },
     "execution_count": 13,
     "metadata": {},
     "output_type": "execute_result"
    }
   ],
   "source": [
    "labels = [\n",
    "          '1 e 2 quartos',\n",
    "          '3 e 4 quartos',\n",
    "          '5 e 6 quartos',\n",
    "          '7 ou mais quartos'\n",
    "        ]\n",
    "\n",
    "quartos = pd.cut(dados.Quartos, classes, labels = labels)\n",
    "quartos"
   ]
  },
  {
   "cell_type": "code",
   "execution_count": 14,
   "metadata": {},
   "outputs": [
    {
     "name": "stderr",
     "output_type": "stream",
     "text": [
      "/tmp/ipykernel_103595/2908359106.py:1: FutureWarning: pandas.value_counts is deprecated and will be removed in a future version. Use pd.Series(obj).value_counts() instead.\n",
      "  pd.value_counts(quartos)\n"
     ]
    },
    {
     "data": {
      "text/plain": [
       "Quartos\n",
       "1 e 2 quartos        12419\n",
       "3 e 4 quartos         9894\n",
       "5 e 6 quartos          709\n",
       "7 ou mais quartos       87\n",
       "Name: count, dtype: int64"
      ]
     },
     "execution_count": 14,
     "metadata": {},
     "output_type": "execute_result"
    }
   ],
   "source": [
    "pd.value_counts(quartos)"
   ]
  },
  {
   "cell_type": "code",
   "execution_count": 17,
   "metadata": {},
   "outputs": [
    {
     "name": "stderr",
     "output_type": "stream",
     "text": [
      "/tmp/ipykernel_103595/1555329729.py:2: FutureWarning: pandas.value_counts is deprecated and will be removed in a future version. Use pd.Series(obj).value_counts() instead.\n",
      "  pd.value_counts(quartos)\n"
     ]
    },
    {
     "data": {
      "text/plain": [
       "Quartos\n",
       "1 e 2 quartos        22270\n",
       "3 e 4 quartos         9894\n",
       "5 e 6 quartos          709\n",
       "7 ou mais quartos       87\n",
       "Name: count, dtype: int64"
      ]
     },
     "execution_count": 17,
     "metadata": {},
     "output_type": "execute_result"
    }
   ],
   "source": [
    "quartos = pd.cut(dados.Quartos, classes, labels = labels, include_lowest=True)\n",
    "pd.value_counts(quartos)\n"
   ]
  },
  {
   "cell_type": "code",
   "execution_count": null,
   "metadata": {},
   "outputs": [],
   "source": []
  }
 ],
 "metadata": {
  "kernelspec": {
   "display_name": "Python 3",
   "language": "python",
   "name": "python3"
  },
  "language_info": {
   "codemirror_mode": {
    "name": "ipython",
    "version": 3
   },
   "file_extension": ".py",
   "mimetype": "text/x-python",
   "name": "python",
   "nbconvert_exporter": "python",
   "pygments_lexer": "ipython3",
   "version": "3.10.12"
  }
 },
 "nbformat": 4,
 "nbformat_minor": 2
}
