{
 "cells": [
  {
   "cell_type": "code",
   "execution_count": 2,
   "metadata": {},
   "outputs": [],
   "source": [
    "import pandas as pd\n",
    "import seaborn as sns\n",
    "import matplotlib.pyplot as plt\n",
    "sns.set(rc={'figure.figsize':(15,8)})"
   ]
  },
  {
   "cell_type": "code",
   "execution_count": 4,
   "metadata": {},
   "outputs": [
    {
     "data": {
      "text/html": [
       "<div>\n",
       "<style scoped>\n",
       "    .dataframe tbody tr th:only-of-type {\n",
       "        vertical-align: middle;\n",
       "    }\n",
       "\n",
       "    .dataframe tbody tr th {\n",
       "        vertical-align: top;\n",
       "    }\n",
       "\n",
       "    .dataframe thead th {\n",
       "        text-align: right;\n",
       "    }\n",
       "</style>\n",
       "<table border=\"1\" class=\"dataframe\">\n",
       "  <thead>\n",
       "    <tr style=\"text-align: right;\">\n",
       "      <th></th>\n",
       "      <th>CDREDE</th>\n",
       "      <th>DE</th>\n",
       "      <th>CODMUN</th>\n",
       "      <th>MUN</th>\n",
       "      <th>CATEG</th>\n",
       "      <th>COD_ESC</th>\n",
       "      <th>TIPOESC</th>\n",
       "      <th>CODVINC</th>\n",
       "      <th>NOMESC</th>\n",
       "      <th>ENDESC</th>\n",
       "      <th>...</th>\n",
       "      <th>ENSINO INFANTIL</th>\n",
       "      <th>CLASSES ESPECIAIS</th>\n",
       "      <th>SALA DE RECURSO</th>\n",
       "      <th>ANOS INICIAIS</th>\n",
       "      <th>ANOS FINAIS</th>\n",
       "      <th>ENSINO MÉDIO</th>\n",
       "      <th>EJA – ANOS INICIAS</th>\n",
       "      <th>EJA – ANOS FINAIS</th>\n",
       "      <th>EJA – ENSINO MEDIO</th>\n",
       "      <th>Unnamed: 24</th>\n",
       "    </tr>\n",
       "  </thead>\n",
       "  <tbody>\n",
       "    <tr>\n",
       "      <th>0</th>\n",
       "      <td>10101</td>\n",
       "      <td>NORTE 1</td>\n",
       "      <td>100</td>\n",
       "      <td>SAO PAULO</td>\n",
       "      <td>1</td>\n",
       "      <td>279</td>\n",
       "      <td>8</td>\n",
       "      <td>NaN</td>\n",
       "      <td>GALDINO LOPES CHAGAS PROFESSOR</td>\n",
       "      <td>SABAO</td>\n",
       "      <td>...</td>\n",
       "      <td>0</td>\n",
       "      <td>14</td>\n",
       "      <td>0</td>\n",
       "      <td>950</td>\n",
       "      <td>0</td>\n",
       "      <td>0</td>\n",
       "      <td>0</td>\n",
       "      <td>0</td>\n",
       "      <td>0</td>\n",
       "      <td>NaN</td>\n",
       "    </tr>\n",
       "    <tr>\n",
       "      <th>1</th>\n",
       "      <td>10101</td>\n",
       "      <td>NORTE 1</td>\n",
       "      <td>100</td>\n",
       "      <td>SAO PAULO</td>\n",
       "      <td>1</td>\n",
       "      <td>346</td>\n",
       "      <td>8</td>\n",
       "      <td>NaN</td>\n",
       "      <td>MANOEL DA NOBREGA PADRE</td>\n",
       "      <td>ITABERABA</td>\n",
       "      <td>...</td>\n",
       "      <td>0</td>\n",
       "      <td>0</td>\n",
       "      <td>0</td>\n",
       "      <td>651</td>\n",
       "      <td>0</td>\n",
       "      <td>0</td>\n",
       "      <td>0</td>\n",
       "      <td>0</td>\n",
       "      <td>0</td>\n",
       "      <td>NaN</td>\n",
       "    </tr>\n",
       "    <tr>\n",
       "      <th>2</th>\n",
       "      <td>10101</td>\n",
       "      <td>NORTE 1</td>\n",
       "      <td>100</td>\n",
       "      <td>SAO PAULO</td>\n",
       "      <td>1</td>\n",
       "      <td>565</td>\n",
       "      <td>8</td>\n",
       "      <td>NaN</td>\n",
       "      <td>NOSSA SENHORA DO RETIRO</td>\n",
       "      <td>RUA  DOUTOR  PEDRO MUSTRE PORTUGAL</td>\n",
       "      <td>...</td>\n",
       "      <td>0</td>\n",
       "      <td>16</td>\n",
       "      <td>0</td>\n",
       "      <td>521</td>\n",
       "      <td>0</td>\n",
       "      <td>0</td>\n",
       "      <td>0</td>\n",
       "      <td>0</td>\n",
       "      <td>0</td>\n",
       "      <td>NaN</td>\n",
       "    </tr>\n",
       "    <tr>\n",
       "      <th>3</th>\n",
       "      <td>10101</td>\n",
       "      <td>NORTE 1</td>\n",
       "      <td>100</td>\n",
       "      <td>SAO PAULO</td>\n",
       "      <td>1</td>\n",
       "      <td>644</td>\n",
       "      <td>8</td>\n",
       "      <td>NaN</td>\n",
       "      <td>PIO XII</td>\n",
       "      <td>OTAVIO DOMINGUITO</td>\n",
       "      <td>...</td>\n",
       "      <td>0</td>\n",
       "      <td>0</td>\n",
       "      <td>0</td>\n",
       "      <td>295</td>\n",
       "      <td>0</td>\n",
       "      <td>0</td>\n",
       "      <td>0</td>\n",
       "      <td>0</td>\n",
       "      <td>0</td>\n",
       "      <td>NaN</td>\n",
       "    </tr>\n",
       "    <tr>\n",
       "      <th>4</th>\n",
       "      <td>10101</td>\n",
       "      <td>NORTE 1</td>\n",
       "      <td>100</td>\n",
       "      <td>SAO PAULO</td>\n",
       "      <td>1</td>\n",
       "      <td>36444</td>\n",
       "      <td>8</td>\n",
       "      <td>NaN</td>\n",
       "      <td>GENESIO DE ALMEIDA MOURA DOUTOR</td>\n",
       "      <td>DOMINGOS AREVALO</td>\n",
       "      <td>...</td>\n",
       "      <td>0</td>\n",
       "      <td>0</td>\n",
       "      <td>0</td>\n",
       "      <td>722</td>\n",
       "      <td>458</td>\n",
       "      <td>364</td>\n",
       "      <td>0</td>\n",
       "      <td>0</td>\n",
       "      <td>0</td>\n",
       "      <td>NaN</td>\n",
       "    </tr>\n",
       "    <tr>\n",
       "      <th>5</th>\n",
       "      <td>10101</td>\n",
       "      <td>NORTE 1</td>\n",
       "      <td>100</td>\n",
       "      <td>SAO PAULO</td>\n",
       "      <td>1</td>\n",
       "      <td>36456</td>\n",
       "      <td>8</td>\n",
       "      <td>NaN</td>\n",
       "      <td>MIGUEL OLIVA FEITOSA PROFESSOR</td>\n",
       "      <td>TARCON</td>\n",
       "      <td>...</td>\n",
       "      <td>0</td>\n",
       "      <td>0</td>\n",
       "      <td>0</td>\n",
       "      <td>0</td>\n",
       "      <td>408</td>\n",
       "      <td>412</td>\n",
       "      <td>0</td>\n",
       "      <td>0</td>\n",
       "      <td>0</td>\n",
       "      <td>NaN</td>\n",
       "    </tr>\n",
       "    <tr>\n",
       "      <th>6</th>\n",
       "      <td>10101</td>\n",
       "      <td>NORTE 1</td>\n",
       "      <td>100</td>\n",
       "      <td>SAO PAULO</td>\n",
       "      <td>1</td>\n",
       "      <td>46243</td>\n",
       "      <td>8</td>\n",
       "      <td>NaN</td>\n",
       "      <td>FLAMINIO FAVERO PROFESSOR</td>\n",
       "      <td>AVENIDA GENERAL PENHA BRASIL</td>\n",
       "      <td>...</td>\n",
       "      <td>0</td>\n",
       "      <td>0</td>\n",
       "      <td>0</td>\n",
       "      <td>419</td>\n",
       "      <td>471</td>\n",
       "      <td>603</td>\n",
       "      <td>0</td>\n",
       "      <td>0</td>\n",
       "      <td>0</td>\n",
       "      <td>NaN</td>\n",
       "    </tr>\n",
       "    <tr>\n",
       "      <th>7</th>\n",
       "      <td>10101</td>\n",
       "      <td>NORTE 1</td>\n",
       "      <td>100</td>\n",
       "      <td>SAO PAULO</td>\n",
       "      <td>1</td>\n",
       "      <td>924751</td>\n",
       "      <td>8</td>\n",
       "      <td>NaN</td>\n",
       "      <td>LUIZA SALETTE JUNCA DE ALMEIDA PROFESSORA</td>\n",
       "      <td>AVENIDA DEPUTADO CANTIDIO SAMPAIO</td>\n",
       "      <td>...</td>\n",
       "      <td>0</td>\n",
       "      <td>0</td>\n",
       "      <td>0</td>\n",
       "      <td>0</td>\n",
       "      <td>733</td>\n",
       "      <td>0</td>\n",
       "      <td>0</td>\n",
       "      <td>0</td>\n",
       "      <td>679</td>\n",
       "      <td>NaN</td>\n",
       "    </tr>\n",
       "    <tr>\n",
       "      <th>8</th>\n",
       "      <td>10101</td>\n",
       "      <td>NORTE 1</td>\n",
       "      <td>100</td>\n",
       "      <td>SAO PAULO</td>\n",
       "      <td>1</td>\n",
       "      <td>924763</td>\n",
       "      <td>8</td>\n",
       "      <td>NaN</td>\n",
       "      <td>REPUBLICA ARGENTINA</td>\n",
       "      <td>PHILONILIA GONCALVES DOS SANTOS</td>\n",
       "      <td>...</td>\n",
       "      <td>0</td>\n",
       "      <td>0</td>\n",
       "      <td>0</td>\n",
       "      <td>0</td>\n",
       "      <td>79</td>\n",
       "      <td>570</td>\n",
       "      <td>0</td>\n",
       "      <td>0</td>\n",
       "      <td>201</td>\n",
       "      <td>NaN</td>\n",
       "    </tr>\n",
       "    <tr>\n",
       "      <th>9</th>\n",
       "      <td>10102</td>\n",
       "      <td>CENTRO</td>\n",
       "      <td>100</td>\n",
       "      <td>SAO PAULO</td>\n",
       "      <td>1</td>\n",
       "      <td>383</td>\n",
       "      <td>8</td>\n",
       "      <td>NaN</td>\n",
       "      <td>ANTOINE DE SAINT EXUPERY</td>\n",
       "      <td>RUA ANTONIO RIBEIRO DE MORAIS</td>\n",
       "      <td>...</td>\n",
       "      <td>0</td>\n",
       "      <td>2</td>\n",
       "      <td>0</td>\n",
       "      <td>0</td>\n",
       "      <td>556</td>\n",
       "      <td>572</td>\n",
       "      <td>0</td>\n",
       "      <td>0</td>\n",
       "      <td>0</td>\n",
       "      <td>NaN</td>\n",
       "    </tr>\n",
       "    <tr>\n",
       "      <th>10</th>\n",
       "      <td>10102</td>\n",
       "      <td>CENTRO</td>\n",
       "      <td>100</td>\n",
       "      <td>SAO PAULO</td>\n",
       "      <td>1</td>\n",
       "      <td>656</td>\n",
       "      <td>8</td>\n",
       "      <td>NaN</td>\n",
       "      <td>FRONTINO GUIMARAES</td>\n",
       "      <td>RUA PAULO GONCALVES</td>\n",
       "      <td>...</td>\n",
       "      <td>0</td>\n",
       "      <td>0</td>\n",
       "      <td>0</td>\n",
       "      <td>0</td>\n",
       "      <td>269</td>\n",
       "      <td>0</td>\n",
       "      <td>0</td>\n",
       "      <td>0</td>\n",
       "      <td>0</td>\n",
       "      <td>NaN</td>\n",
       "    </tr>\n",
       "    <tr>\n",
       "      <th>11</th>\n",
       "      <td>10102</td>\n",
       "      <td>CENTRO</td>\n",
       "      <td>100</td>\n",
       "      <td>SAO PAULO</td>\n",
       "      <td>1</td>\n",
       "      <td>681</td>\n",
       "      <td>8</td>\n",
       "      <td>NaN</td>\n",
       "      <td>TOLEDO BARBOSA</td>\n",
       "      <td>RUA MARIA CANDIDA</td>\n",
       "      <td>...</td>\n",
       "      <td>0</td>\n",
       "      <td>15</td>\n",
       "      <td>0</td>\n",
       "      <td>380</td>\n",
       "      <td>271</td>\n",
       "      <td>0</td>\n",
       "      <td>0</td>\n",
       "      <td>0</td>\n",
       "      <td>0</td>\n",
       "      <td>NaN</td>\n",
       "    </tr>\n",
       "    <tr>\n",
       "      <th>12</th>\n",
       "      <td>10102</td>\n",
       "      <td>CENTRO</td>\n",
       "      <td>100</td>\n",
       "      <td>SAO PAULO</td>\n",
       "      <td>1</td>\n",
       "      <td>711</td>\n",
       "      <td>8</td>\n",
       "      <td>NaN</td>\n",
       "      <td>NARBAL FONTES PROFESSORA</td>\n",
       "      <td>AVENIDA CONCEICAO</td>\n",
       "      <td>...</td>\n",
       "      <td>0</td>\n",
       "      <td>0</td>\n",
       "      <td>0</td>\n",
       "      <td>0</td>\n",
       "      <td>206</td>\n",
       "      <td>146</td>\n",
       "      <td>0</td>\n",
       "      <td>0</td>\n",
       "      <td>47</td>\n",
       "      <td>NaN</td>\n",
       "    </tr>\n",
       "    <tr>\n",
       "      <th>13</th>\n",
       "      <td>10102</td>\n",
       "      <td>CENTRO</td>\n",
       "      <td>100</td>\n",
       "      <td>SAO PAULO</td>\n",
       "      <td>1</td>\n",
       "      <td>3670</td>\n",
       "      <td>8</td>\n",
       "      <td>NaN</td>\n",
       "      <td>FIDELINO DE FIGUEIREDO PROFESSOR</td>\n",
       "      <td>RUA IMACULADA CONCEICAO</td>\n",
       "      <td>...</td>\n",
       "      <td>0</td>\n",
       "      <td>0</td>\n",
       "      <td>0</td>\n",
       "      <td>0</td>\n",
       "      <td>590</td>\n",
       "      <td>687</td>\n",
       "      <td>0</td>\n",
       "      <td>0</td>\n",
       "      <td>109</td>\n",
       "      <td>NaN</td>\n",
       "    </tr>\n",
       "    <tr>\n",
       "      <th>14</th>\n",
       "      <td>10102</td>\n",
       "      <td>CENTRO</td>\n",
       "      <td>100</td>\n",
       "      <td>SAO PAULO</td>\n",
       "      <td>1</td>\n",
       "      <td>3712</td>\n",
       "      <td>8</td>\n",
       "      <td>NaN</td>\n",
       "      <td>MARINA CINTRA PROFESSORA</td>\n",
       "      <td>RUA DA CONSOLACAO</td>\n",
       "      <td>...</td>\n",
       "      <td>0</td>\n",
       "      <td>0</td>\n",
       "      <td>0</td>\n",
       "      <td>480</td>\n",
       "      <td>584</td>\n",
       "      <td>0</td>\n",
       "      <td>0</td>\n",
       "      <td>0</td>\n",
       "      <td>0</td>\n",
       "      <td>NaN</td>\n",
       "    </tr>\n",
       "  </tbody>\n",
       "</table>\n",
       "<p>15 rows × 25 columns</p>\n",
       "</div>"
      ],
      "text/plain": [
       "    CDREDE       DE  CODMUN        MUN  CATEG  COD_ESC  TIPOESC  CODVINC  \\\n",
       "0    10101  NORTE 1     100  SAO PAULO      1      279        8      NaN   \n",
       "1    10101  NORTE 1     100  SAO PAULO      1      346        8      NaN   \n",
       "2    10101  NORTE 1     100  SAO PAULO      1      565        8      NaN   \n",
       "3    10101  NORTE 1     100  SAO PAULO      1      644        8      NaN   \n",
       "4    10101  NORTE 1     100  SAO PAULO      1    36444        8      NaN   \n",
       "5    10101  NORTE 1     100  SAO PAULO      1    36456        8      NaN   \n",
       "6    10101  NORTE 1     100  SAO PAULO      1    46243        8      NaN   \n",
       "7    10101  NORTE 1     100  SAO PAULO      1   924751        8      NaN   \n",
       "8    10101  NORTE 1     100  SAO PAULO      1   924763        8      NaN   \n",
       "9    10102   CENTRO     100  SAO PAULO      1      383        8      NaN   \n",
       "10   10102   CENTRO     100  SAO PAULO      1      656        8      NaN   \n",
       "11   10102   CENTRO     100  SAO PAULO      1      681        8      NaN   \n",
       "12   10102   CENTRO     100  SAO PAULO      1      711        8      NaN   \n",
       "13   10102   CENTRO     100  SAO PAULO      1     3670        8      NaN   \n",
       "14   10102   CENTRO     100  SAO PAULO      1     3712        8      NaN   \n",
       "\n",
       "                                       NOMESC  \\\n",
       "0              GALDINO LOPES CHAGAS PROFESSOR   \n",
       "1                     MANOEL DA NOBREGA PADRE   \n",
       "2                     NOSSA SENHORA DO RETIRO   \n",
       "3                                     PIO XII   \n",
       "4             GENESIO DE ALMEIDA MOURA DOUTOR   \n",
       "5              MIGUEL OLIVA FEITOSA PROFESSOR   \n",
       "6                   FLAMINIO FAVERO PROFESSOR   \n",
       "7   LUIZA SALETTE JUNCA DE ALMEIDA PROFESSORA   \n",
       "8                         REPUBLICA ARGENTINA   \n",
       "9                    ANTOINE DE SAINT EXUPERY   \n",
       "10                         FRONTINO GUIMARAES   \n",
       "11                             TOLEDO BARBOSA   \n",
       "12                   NARBAL FONTES PROFESSORA   \n",
       "13           FIDELINO DE FIGUEIREDO PROFESSOR   \n",
       "14                   MARINA CINTRA PROFESSORA   \n",
       "\n",
       "                                ENDESC  ... ENSINO INFANTIL CLASSES ESPECIAIS  \\\n",
       "0                                SABAO  ...               0                14   \n",
       "1                            ITABERABA  ...               0                 0   \n",
       "2   RUA  DOUTOR  PEDRO MUSTRE PORTUGAL  ...               0                16   \n",
       "3                    OTAVIO DOMINGUITO  ...               0                 0   \n",
       "4                     DOMINGOS AREVALO  ...               0                 0   \n",
       "5                               TARCON  ...               0                 0   \n",
       "6         AVENIDA GENERAL PENHA BRASIL  ...               0                 0   \n",
       "7    AVENIDA DEPUTADO CANTIDIO SAMPAIO  ...               0                 0   \n",
       "8      PHILONILIA GONCALVES DOS SANTOS  ...               0                 0   \n",
       "9        RUA ANTONIO RIBEIRO DE MORAIS  ...               0                 2   \n",
       "10                 RUA PAULO GONCALVES  ...               0                 0   \n",
       "11                   RUA MARIA CANDIDA  ...               0                15   \n",
       "12                   AVENIDA CONCEICAO  ...               0                 0   \n",
       "13             RUA IMACULADA CONCEICAO  ...               0                 0   \n",
       "14                   RUA DA CONSOLACAO  ...               0                 0   \n",
       "\n",
       "   SALA DE RECURSO ANOS INICIAIS  ANOS FINAIS  ENSINO MÉDIO  \\\n",
       "0                0           950            0             0   \n",
       "1                0           651            0             0   \n",
       "2                0           521            0             0   \n",
       "3                0           295            0             0   \n",
       "4                0           722          458           364   \n",
       "5                0             0          408           412   \n",
       "6                0           419          471           603   \n",
       "7                0             0          733             0   \n",
       "8                0             0           79           570   \n",
       "9                0             0          556           572   \n",
       "10               0             0          269             0   \n",
       "11               0           380          271             0   \n",
       "12               0             0          206           146   \n",
       "13               0             0          590           687   \n",
       "14               0           480          584             0   \n",
       "\n",
       "    EJA – ANOS INICIAS  EJA – ANOS FINAIS  EJA – ENSINO MEDIO  Unnamed: 24  \n",
       "0                    0                  0                   0          NaN  \n",
       "1                    0                  0                   0          NaN  \n",
       "2                    0                  0                   0          NaN  \n",
       "3                    0                  0                   0          NaN  \n",
       "4                    0                  0                   0          NaN  \n",
       "5                    0                  0                   0          NaN  \n",
       "6                    0                  0                   0          NaN  \n",
       "7                    0                  0                 679          NaN  \n",
       "8                    0                  0                 201          NaN  \n",
       "9                    0                  0                   0          NaN  \n",
       "10                   0                  0                   0          NaN  \n",
       "11                   0                  0                   0          NaN  \n",
       "12                   0                  0                  47          NaN  \n",
       "13                   0                  0                 109          NaN  \n",
       "14                   0                  0                   0          NaN  \n",
       "\n",
       "[15 rows x 25 columns]"
      ]
     },
     "execution_count": 4,
     "metadata": {},
     "output_type": "execute_result"
    }
   ],
   "source": [
    "schools = pd.read_csv('./Quantidade de alunos por tipo de ensino da rede estadual_2021_2°SEMESTRE.csv')\n",
    "schools.head(15)"
   ]
  },
  {
   "cell_type": "code",
   "execution_count": 5,
   "metadata": {},
   "outputs": [
    {
     "name": "stdout",
     "output_type": "stream",
     "text": [
      "<class 'pandas.core.frame.DataFrame'>\n",
      "RangeIndex: 5483 entries, 0 to 5482\n",
      "Data columns (total 25 columns):\n",
      " #   Column              Non-Null Count  Dtype  \n",
      "---  ------              --------------  -----  \n",
      " 0   CDREDE              5483 non-null   int64  \n",
      " 1   DE                  5483 non-null   object \n",
      " 2   CODMUN              5483 non-null   int64  \n",
      " 3   MUN                 5483 non-null   object \n",
      " 4   CATEG               5483 non-null   int64  \n",
      " 5   COD_ESC             5483 non-null   int64  \n",
      " 6   TIPOESC             5483 non-null   int64  \n",
      " 7   CODVINC             435 non-null    float64\n",
      " 8   NOMESC              5483 non-null   object \n",
      " 9   ENDESC              5483 non-null   object \n",
      " 10  NUMESC              5460 non-null   object \n",
      " 11  BAIESC              5478 non-null   object \n",
      " 12  EMAIL               5427 non-null   object \n",
      " 13  FONE1               5460 non-null   object \n",
      " 14  ZONA                5483 non-null   int64  \n",
      " 15  ENSINO INFANTIL     5483 non-null   int64  \n",
      " 16  CLASSES ESPECIAIS   5483 non-null   int64  \n",
      " 17  SALA DE RECURSO     5483 non-null   int64  \n",
      " 18  ANOS INICIAIS       5483 non-null   int64  \n",
      " 19  ANOS FINAIS         5483 non-null   int64  \n",
      " 20  ENSINO MÉDIO        5483 non-null   int64  \n",
      " 21  EJA – ANOS INICIAS  5483 non-null   int64  \n",
      " 22  EJA – ANOS FINAIS   5483 non-null   int64  \n",
      " 23  EJA – ENSINO MEDIO  5483 non-null   int64  \n",
      " 24  Unnamed: 24         6 non-null      float64\n",
      "dtypes: float64(2), int64(15), object(8)\n",
      "memory usage: 1.0+ MB\n"
     ]
    }
   ],
   "source": [
    "schools.info()"
   ]
  },
  {
   "cell_type": "code",
   "execution_count": 9,
   "metadata": {},
   "outputs": [
    {
     "name": "stderr",
     "output_type": "stream",
     "text": [
      "/home/eliabe/.local/lib/python3.10/site-packages/seaborn/_oldcore.py:1498: FutureWarning: is_categorical_dtype is deprecated and will be removed in a future version. Use isinstance(dtype, CategoricalDtype) instead\n",
      "  if pd.api.types.is_categorical_dtype(vector):\n",
      "/home/eliabe/.local/lib/python3.10/site-packages/seaborn/_oldcore.py:1119: FutureWarning: use_inf_as_na option is deprecated and will be removed in a future version. Convert inf values to NaN before operating instead.\n",
      "  with pd.option_context('mode.use_inf_as_na', True):\n"
     ]
    },
    {
     "data": {
      "image/png": "[encoded data removed]",
      "text/plain": [
       "<Figure size 360x360 with 1 Axes>"
      ]
     },
     "metadata": {
      "needs_background": "light"
     },
     "output_type": "display_data"
    }
   ],
   "source": [
    "sns.displot(schools['ANOS INICIAIS'])\n",
    "plt.show()"
   ]
  },
  {
   "cell_type": "code",
   "execution_count": 13,
   "metadata": {},
   "outputs": [
    {
     "name": "stderr",
     "output_type": "stream",
     "text": [
      "/home/eliabe/.local/lib/python3.10/site-packages/seaborn/_oldcore.py:1498: FutureWarning: is_categorical_dtype is deprecated and will be removed in a future version. Use isinstance(dtype, CategoricalDtype) instead\n",
      "  if pd.api.types.is_categorical_dtype(vector):\n",
      "/home/eliabe/.local/lib/python3.10/site-packages/seaborn/_oldcore.py:1119: FutureWarning: use_inf_as_na option is deprecated and will be removed in a future version. Convert inf values to NaN before operating instead.\n",
      "  with pd.option_context('mode.use_inf_as_na', True):\n"
     ]
    },
    {
     "data": {
      "text/plain": [
       "<seaborn.axisgrid.FacetGrid at 0x7f792fd97820>"
      ]
     },
     "execution_count": 13,
     "metadata": {},
     "output_type": "execute_result"
    },
    {
     "data": {
      "image/png": "[encoded data removed]",
      "text/plain": [
       "<Figure size 360x360 with 1 Axes>"
      ]
     },
     "metadata": {
      "needs_background": "light"
     },
     "output_type": "display_data"
    }
   ],
   "source": [
    "filtered_schools = schools[schools['ANOS INICIAIS'] > 0]\n",
    "sns.displot(filtered_schools['ANOS INICIAIS'], bins= 12)"
   ]
  },
  {
   "cell_type": "code",
   "execution_count": 15,
   "metadata": {},
   "outputs": [
    {
     "name": "stderr",
     "output_type": "stream",
     "text": [
      "/home/eliabe/.local/lib/python3.10/site-packages/seaborn/_oldcore.py:1498: FutureWarning: is_categorical_dtype is deprecated and will be removed in a future version. Use isinstance(dtype, CategoricalDtype) instead\n",
      "  if pd.api.types.is_categorical_dtype(vector):\n"
     ]
    },
    {
     "name": "stderr",
     "output_type": "stream",
     "text": [
      "/home/eliabe/.local/lib/python3.10/site-packages/seaborn/_oldcore.py:1119: FutureWarning: use_inf_as_na option is deprecated and will be removed in a future version. Convert inf values to NaN before operating instead.\n",
      "  with pd.option_context('mode.use_inf_as_na', True):\n"
     ]
    },
    {
     "data": {
      "text/plain": [
       "<seaborn.axisgrid.FacetGrid at 0x7f792d2022c0>"
      ]
     },
     "execution_count": 15,
     "metadata": {},
     "output_type": "execute_result"
    },
    {
     "data": {
      "image/png": "[encoded data removed]",
      "text/plain": [
       "<Figure size 360x360 with 1 Axes>"
      ]
     },
     "metadata": {
      "needs_background": "light"
     },
     "output_type": "display_data"
    }
   ],
   "source": [
    "filtered_schools = schools[schools['ANOS FINAIS'] > 0]\n",
    "sns.displot(filtered_schools['ANOS FINAIS'], bins= 10)"
   ]
  },
  {
   "cell_type": "code",
   "execution_count": 17,
   "metadata": {},
   "outputs": [
    {
     "name": "stderr",
     "output_type": "stream",
     "text": [
      "/home/eliabe/.local/lib/python3.10/site-packages/seaborn/_oldcore.py:1498: FutureWarning: is_categorical_dtype is deprecated and will be removed in a future version. Use isinstance(dtype, CategoricalDtype) instead\n",
      "  if pd.api.types.is_categorical_dtype(vector):\n",
      "/home/eliabe/.local/lib/python3.10/site-packages/seaborn/_oldcore.py:1119: FutureWarning: use_inf_as_na option is deprecated and will be removed in a future version. Convert inf values to NaN before operating instead.\n",
      "  with pd.option_context('mode.use_inf_as_na', True):\n"
     ]
    },
    {
     "data": {
      "text/plain": [
       "<seaborn.axisgrid.FacetGrid at 0x7f792d5b0730>"
      ]
     },
     "execution_count": 17,
     "metadata": {},
     "output_type": "execute_result"
    },
    {
     "data": {
      "image/png": "[encoded data removed]",
      "text/plain": [
       "<Figure size 360x360 with 1 Axes>"
      ]
     },
     "metadata": {
      "needs_background": "light"
     },
     "output_type": "display_data"
    }
   ],
   "source": [
    "filtered_schools = schools[schools['ENSINO MÉDIO'] > 0]\n",
    "sns.displot(filtered_schools['ENSINO MÉDIO'], bins= 12)"
   ]
  },
  {
   "cell_type": "code",
   "execution_count": 20,
   "metadata": {},
   "outputs": [
    {
     "name": "stdout",
     "output_type": "stream",
     "text": [
      "593528 1343706 1198382\n",
      "Sum of all education levels students: 3135616\n"
     ]
    }
   ],
   "source": [
    "first_years_elementary = schools['ANOS INICIAIS'].sum()\n",
    "last_years_elementary = schools['ANOS FINAIS'].sum()\n",
    "high_school = schools['ENSINO MÉDIO'].sum()\n",
    "sum_of_students = first_years_elementary + last_years_elementary + high_school\n",
    "print(first_years_elementary, last_years_elementary, high_school)\n",
    "print(f'Sum of all education levels students: {sum_of_students}')\n"
   ]
  },
  {
   "cell_type": "code",
   "execution_count": 25,
   "metadata": {},
   "outputs": [
    {
     "data": {
      "image/png": "[encoded data removed]",
      "text/plain": [
       "<Figure size 432x288 with 1 Axes>"
      ]
     },
     "metadata": {},
     "output_type": "display_data"
    }
   ],
   "source": [
    "students = [first_years_elementary, last_years_elementary, high_school]\n",
    "period = ['Fundamental: Anos Iniciais', 'Fundamental: Anos Finais', 'Ensino Médio']\n",
    "plt.pie(students, labels=period, autopct='%0.0f%%')"
   ]
  },
  {
   "cell_type": "code",
   "execution_count": 27,
   "metadata": {},
   "outputs": [
    {
     "name": "stderr",
     "output_type": "stream",
     "text": [
      "/home/eliabe/.local/lib/python3.10/site-packages/seaborn/_oldcore.py:1498: FutureWarning: is_categorical_dtype is deprecated and will be removed in a future version. Use isinstance(dtype, CategoricalDtype) instead\n",
      "  if pd.api.types.is_categorical_dtype(vector):\n"
     ]
    },
    {
     "data": {
      "image/png": "[encoded data removed]",
      "text/plain": [
       "<Figure size 432x288 with 1 Axes>"
      ]
     },
     "metadata": {
      "needs_background": "light"
     },
     "output_type": "display_data"
    }
   ],
   "source": [
    "filtered_schools = schools[schools['ENSINO MÉDIO'] > 0]\n",
    "sns.boxplot(y=filtered_schools['ENSINO MÉDIO'])\n",
    "plt.show()"
   ]
  },
  {
   "cell_type": "code",
   "execution_count": null,
   "metadata": {},
   "outputs": [],
   "source": []
  }
 ],
 "metadata": {
  "kernelspec": {
   "display_name": "Python 3",
   "language": "python",
   "name": "python3"
  },
  "language_info": {
   "codemirror_mode": {
    "name": "ipython",
    "version": 3
   },
   "file_extension": ".py",
   "mimetype": "text/x-python",
   "name": "python",
   "nbconvert_exporter": "python",
   "pygments_lexer": "ipython3",
   "version": "3.10.12"
  }
 },
 "nbformat": 4,
 "nbformat_minor": 2
}
